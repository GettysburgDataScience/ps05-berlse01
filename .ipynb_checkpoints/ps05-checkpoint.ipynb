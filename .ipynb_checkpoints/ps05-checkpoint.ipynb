{
 "cells": [
  {
   "cell_type": "code",
   "execution_count": null,
   "metadata": {},
   "outputs": [],
   "source": [
    "## Replace this with your name and Section"
   ]
  },
  {
   "cell_type": "markdown",
   "metadata": {},
   "source": [
    "DS 256 Data Science Programming, Fall 2024\n",
    "\n",
    "Prof Eatai Roth\n",
    "\n",
    "## Problem Set 5\n",
    "Due 11/14/2024 by 8p"
   ]
  },
  {
   "cell_type": "markdown",
   "metadata": {},
   "source": [
    "## Titanic Pandas\n",
    "(sounds cute...is not)\n",
    "\n",
    "In this assignment, we'll explore the titanic training data set. These data represent a portion of the passenger manifest of the Titanic, detailing the passengers and whether or not they survived the fateful crash.\n",
    "\n",
    "The columns are mostly self-explanatory. Key to less-obvious columns:\n",
    " - Sex - male=1 / female=0 \n",
    " - Parch - number of parents/children traveling with\n",
    " - SibSp - numbers of siblings/spouses traveling with\n",
    " - PClass - ticket class (like first class, business, economy)\n",
    "\n",
    "\n",
    " To start, you should import packages, ```pandas``` (as pd) and ```matplotlib.pyplot``` (as plt). Then load the data from ```titanic_train_clean.csv``` into a pandas dataframe.\n",
    "\n",
    " Feel free to add more code blocks if needed. When making figures, don't forget to label axes and provide titles and legends when appropriate."
   ]
  },
  {
   "cell_type": "code",
   "execution_count": 21,
   "metadata": {},
   "outputs": [],
   "source": [
    "import pandas as pd\n",
    "import matplotlib.pyplot as plt"
   ]
  },
  {
   "cell_type": "markdown",
   "metadata": {},
   "source": [
    "## Homework Problems\n",
    "\n",
    "For each of the problems, you'll write some code to find the answer. If there is a written/short answer component, use the provided text field."
   ]
  },
  {
   "cell_type": "markdown",
   "metadata": {},
   "source": [
    "### Problem 1\n",
    "\n",
    " - How many passengers are recorded in this log?\n",
    " - What percentage are male?\n",
    " - What percentage survived?\n",
    "\n",
    "Hint: You can find these three answers with a single command."
   ]
  },
  {
   "cell_type": "code",
   "execution_count": 47,
   "metadata": {},
   "outputs": [
    {
     "name": "stdout",
     "output_type": "stream",
     "text": [
      "891\n",
      "64.75869809203144\n",
      "38.38383838383838\n"
     ]
    }
   ],
   "source": [
    "df = pd.read_csv('titanic.csv')\n",
    "total_passangers = len(df)\n",
    "percentage_male = df['Sex'].mean() * 100\n",
    "percentage_survived = df['Survived'].mean() * 100\n",
    "\n",
    "print(total_passangers)\n",
    "print(percentage_male)\n",
    "print(percentage_survived)"
   ]
  },
  {
   "cell_type": "markdown",
   "metadata": {},
   "source": [
    "Your written answer:\n",
    "\n",
    " - 891\n",
    " - 64.75%\n",
    " - 38.38"
   ]
  },
  {
   "cell_type": "markdown",
   "metadata": {},
   "source": [
    "### Problem 2:\n",
    "\n",
    " - What percentage of female passengers survived?\n",
    " - What percentage of male passengers survived?"
   ]
  },
  {
   "cell_type": "code",
   "execution_count": 45,
   "metadata": {},
   "outputs": [
    {
     "name": "stdout",
     "output_type": "stream",
     "text": [
      "74.20382165605095\n",
      "18.890814558058924\n"
     ]
    }
   ],
   "source": [
    "percentage_female_survived = df[df['Sex'] == 0]['Survived'].mean() * 100\n",
    "percentage_male_survived = df[df['Sex'] == 1]['Survived'].mean() * 100\n",
    "\n",
    "print(percentage_female_survived)\n",
    "print(percentage_male_survived)"
   ]
  },
  {
   "cell_type": "markdown",
   "metadata": {},
   "source": [
    "Your written answer:\n",
    "\n",
    " - 74.20%\n",
    " - 18.89%"
   ]
  },
  {
   "cell_type": "markdown",
   "metadata": {},
   "source": [
    "### Problem 3\n",
    "\n",
    "Use ```groupby``` and ```agg``` to find the percentage of the total tickets and the survivorship percentage for each class of ticket."
   ]
  },
  {
   "cell_type": "code",
   "execution_count": 89,
   "metadata": {},
   "outputs": [
    {
     "name": "stdout",
     "output_type": "stream",
     "text": [
      "   Pclass  total_tickets  survivorship_percentage  percentage_total_tickets\n",
      "0       1            216                62.962963                 24.242424\n",
      "1       2            184                47.282609                 20.650954\n",
      "2       3            491                24.236253                 55.106622\n"
     ]
    }
   ],
   "source": [
    "# Calculate the total number of tickets\n",
    "total_tickets = len(df)\n",
    "\n",
    "# Use groupby and agg to find the required information\n",
    "class_summary = df.groupby('Pclass').agg(total_tickets=('Pclass', 'size'),\n",
    "    survivorship_percentage=('Survived', 'mean')).reset_index()\n",
    "class_summary['percentage_total_tickets'] = (class_summary['total_tickets'] / total_tickets) * 100\n",
    "class_summary['survivorship_percentage'] = class_summary['survivorship_percentage'] * 100\n",
    "\n",
    "print(class_summary)\n",
    "\n"
   ]
  },
  {
   "cell_type": "markdown",
   "metadata": {},
   "source": [
    "Your written answer:\n",
    "\n",
    " - Class 1 \n",
    "    - % tickets: 24.24\n",
    "    - % survivorship: 62.96\n",
    "- Class 2 \n",
    "    - % tickets: 20.65\n",
    "    - % survivorship: 47.28\n",
    "- Class 3\n",
    "    - % tickets: 55.11\n",
    "    - % survivorship: 24.24\n"
   ]
  },
  {
   "cell_type": "markdown",
   "metadata": {},
   "source": [
    "### Problem 4\n",
    "\n",
    "Create two new dataframes corresponding to survivors and non-survivors keeping only the columns: age, name, and sex. Display the first five rows of these new dataframes.\n",
    "\n",
    "Create a figure showing the distribution of age by sex and survivorship (four histograms on the same axes: male-survivors, female-survivors, male-unlucky, female-unlucky). Choose colors and histtype (see the [documentation for histogram](https://matplotlib.org/stable/api/_as_gen/matplotlib.pyplot.hist.html)) to make this figure easy to read and interpret."
   ]
  },
  {
   "cell_type": "code",
   "execution_count": 108,
   "metadata": {},
   "outputs": [
    {
     "name": "stdout",
     "output_type": "stream",
     "text": [
      "Survivors:\n",
      "    Age                                               Name  Sex\n",
      "1  38.0  Cumings, Mrs. John Bradley (Florence Briggs Th...    0\n",
      "2  26.0                             Heikkinen, Miss. Laina    0\n",
      "3  35.0       Futrelle, Mrs. Jacques Heath (Lily May Peel)    0\n",
      "8  27.0  Johnson, Mrs. Oscar W (Elisabeth Vilhelmina Berg)    0\n",
      "9  14.0                Nasser, Mrs. Nicholas (Adele Achem)    0\n",
      "Non-Survivors:\n",
      "    Age                            Name  Sex\n",
      "0  22.0         Braund, Mr. Owen Harris    1\n",
      "4  35.0        Allen, Mr. William Henry    1\n",
      "5  30.0                Moran, Mr. James    1\n",
      "6  54.0         McCarthy, Mr. Timothy J    1\n",
      "7   2.0  Palsson, Master. Gosta Leonard    1\n"
     ]
    },
    {
     "data": {
      "image/png": "[encoded data removed]",
      "text/plain": [
       "<Figure size 1200x800 with 1 Axes>"
      ]
     },
     "metadata": {},
     "output_type": "display_data"
    }
   ],
   "source": [
    "survivors = df[df['Survived'] == 1][['Age', 'Name', 'Sex']]\n",
    "print('Survivors:')\n",
    "print(survivors.head())\n",
    "\n",
    "non_survivors = df[df['Survived'] == 0][['Age', 'Name', 'Sex']]\n",
    "print('Non-Survivors:')\n",
    "print(non_survivors.head())\n",
    "\n",
    "survivors = survivors.dropna(subset = ['Age'])\n",
    "non_survivors = non_survivors.dropna(subset = ['Age'])\n",
    "\n",
    "plt.figure(figsize=(12, 8))\n",
    "plt.hist(survivors[survivors['Sex'] == 1]['Age'], bins = 15, alpha = 0.5, color = 'blue', label = 'Male Survivors', histtype = 'stepfilled')\n",
    "plt.hist(survivors[survivors['Sex'] == 0]['Age'], bins = 15, alpha = 0.5, color = 'green', label = 'Female Survivors', histtype = 'stepfilled')\n",
    "plt.hist(non_survivors[non_survivors['Sex'] == 1]['Age'], bins = 15, alpha = 0.5, color = 'red', label = 'Male Non-Survivors', histtype = 'stepfilled')\n",
    "plt.hist(non_survivors[non_survivors['Sex'] == 0]['Age'], bins = 15, alpha = 0.5, color = 'orange', label = 'Female Non-Survivors', histtype = 'stepfilled')\n",
    "plt.xlabel('Age')\n",
    "plt.ylabel('Frequency')\n",
    "plt.title('Distribution of Age by Sex and Survivorship')\n",
    "plt.legend(loc = 'upper right')\n",
    "plt.show()\n",
    "\n",
    "\n",
    "\n"
   ]
  },
  {
   "cell_type": "markdown",
   "metadata": {},
   "source": [
    "### Problem 5\n",
    "\n",
    "Now that we've inspected the data, let's build a classifier (you'll compare two models) that predicts which passengers survived. These are the steps you should take:\n",
    "\n",
    " - Choose your features. The label will be survivorship.\n",
    " - Split the data into training and test sets.\n",
    " - Standardize the values using StandardScaler\n",
    " - Choose two of the following model types: KNN, SVM, Decision Tree. Create those models and select hyper-parameters.\n",
    " - Fit your models to the training data.\n",
    " - Apply the fit models to create predictions from the test data.\n",
    " - For each model, create a confusion matrix for the training and test data. You may want to revisit the hyper-parameters and re-fit the models.\n",
    "\n",
    " - Answer the questions at the bottom of the code block."
   ]
  },
  {
   "cell_type": "code",
   "execution_count": null,
   "metadata": {},
   "outputs": [],
   "source": [
    "'''Your code here'''"
   ]
  },
  {
   "cell_type": "markdown",
   "metadata": {},
   "source": [
    "#### **Questions**\n",
    "\n",
    "How does the model performance on the test data compare to the performance on the training data? \n",
    " \n",
    " - \n",
    "\n",
    "\n",
    "Which models did you fit and which worked better?\n",
    " \n",
    " - "
   ]
  }
 ],
 "metadata": {
  "kernelspec": {
   "display_name": "Python 3 (ipykernel)",
   "language": "python",
   "name": "python3"
  },
  "language_info": {
   "codemirror_mode": {
    "name": "ipython",
    "version": 3
   },
   "file_extension": ".py",
   "mimetype": "text/x-python",
   "name": "python",
   "nbconvert_exporter": "python",
   "pygments_lexer": "ipython3",
   "version": "3.12.4"
  }
 },
 "nbformat": 4,
 "nbformat_minor": 4
}
